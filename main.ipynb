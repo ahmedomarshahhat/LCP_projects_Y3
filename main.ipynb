{
 "cells": [
  {
   "cell_type": "code",
   "execution_count": 59,
   "metadata": {},
   "outputs": [],
   "source": [
    "import numpy as np\n",
    "k= np.random.randint(1,20,44)\n",
    "graph = {\n",
    "        'a': {'b': k[0],'c': k[1],'d': k[2]},\n",
    "        'b': {'c': k[3], 'd':  k[4], 'e': k[5]},\n",
    "        'c': {},\n",
    "        'd': {'b': k[6], 'x':  k[43]},\n",
    "        'e': {'z': k[7] ,'b': k[8] },\n",
    "        'f': {'m': k[9], 'd': k[10] },\n",
    "        'g': {'x': k[11] , 'y': k[12] ,'b' : k[13] , 'x': k[14] },\n",
    "        'm': {'y': k[15] ,'d': k[16] , 'a': k[17] },\n",
    "        'k': {'d': k[18],'e': k[19],'b': k[22],'z': k[26]},\n",
    "        'l': {'g': k[20],'c': k[21],'y': k[23],'z': k[24]},\n",
    "        'm': {'k': k[27],'d': k[28],'b': k[29],'c': k[30]},\n",
    "        'x': {'m': k[31],'d': k[32],'b': k[33],'y': k[34]},\n",
    "        'y': {'z': k[35],'d': k[36],'f': k[37],'l': k[38]},\n",
    "        'z': {'g': k[39],'e': k[40],'l': k[41],'f': k[42]},\n",
    "        \n",
    "\n",
    "    }"
   ]
  },
  {
   "cell_type": "code",
   "execution_count": 60,
   "metadata": {},
   "outputs": [],
   "source": [
    "def bellman_ford(graph, source):\n",
    "    # Step 1: Prepare the distance and predecessor for each node\n",
    "    distance, predecessor = dict(), dict()\n",
    "    for node in graph:\n",
    "        distance[node], predecessor[node] = float('inf'), None\n",
    "    distance[source] = 0\n",
    "\n",
    "    # Step 2: Relax the edges\n",
    "    for _ in range(len(graph) - 1):\n",
    "        for node in graph:\n",
    "            for neighbour in graph[node]:\n",
    "                # If the distance between the node and the neighbour is lower than the current, store it\n",
    "                if distance[neighbour] > distance[node] + graph[node][neighbour]:\n",
    "                    distance[neighbour], predecessor[neighbour] = distance[node] + graph[node][neighbour], node\n",
    "\n",
    "    # Step 3: Check for negative weight cycles\n",
    "    for node in graph:\n",
    "        for neighbour in graph[node]:\n",
    "            assert distance[neighbour] <= distance[node] + graph[node][neighbour], \"Negative weight cycle.\"\n",
    " \n",
    "    return distance, predecessor\n"
   ]
  },
  {
   "cell_type": "code",
   "execution_count": null,
   "metadata": {},
   "outputs": [],
   "source": []
  },
  {
   "cell_type": "code",
   "execution_count": 61,
   "metadata": {},
   "outputs": [
    {
     "name": "stdout",
     "output_type": "stream",
     "text": [
      "Bellman Ford Algoritm distances are =  {'a': 0, 'b': 12, 'c': 6, 'd': 10, 'e': 20, 'f': 34, 'g': 38, 'm': 22, 'k': 23, 'l': 33, 'x': 16, 'y': 22, 'z': 26}\n"
     ]
    }
   ],
   "source": [
    "if __name__ == '__main__':\n",
    "    \n",
    "    distance, predecessor = bellman_ford(graph, source='a')\n",
    "    print (\"Bellman Ford Algoritm distances are = \" , distance)\n",
    "\n",
    "   "
   ]
  },
  {
   "cell_type": "code",
   "execution_count": null,
   "metadata": {},
   "outputs": [],
   "source": []
  }
 ],
 "metadata": {
  "kernelspec": {
   "display_name": "Python 3",
   "language": "python",
   "name": "python3"
  },
  "language_info": {
   "codemirror_mode": {
    "name": "ipython",
    "version": 3
   },
   "file_extension": ".py",
   "mimetype": "text/x-python",
   "name": "python",
   "nbconvert_exporter": "python",
   "pygments_lexer": "ipython3",
   "version": "3.8.5"
  }
 },
 "nbformat": 4,
 "nbformat_minor": 4
}
